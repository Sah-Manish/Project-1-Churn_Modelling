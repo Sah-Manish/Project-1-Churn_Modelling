{
 "cells": [
  {
   "cell_type": "markdown",
   "id": "e7f36d32",
   "metadata": {},
   "source": [
    "### Churn Modelling"
   ]
  },
  {
   "cell_type": "markdown",
   "id": "572eda08",
   "metadata": {},
   "source": [
    "#### Importing required libraries"
   ]
  },
  {
   "cell_type": "code",
   "execution_count": 3,
   "id": "97bf9006",
   "metadata": {},
   "outputs": [],
   "source": [
    "import numpy as np\n",
    "import pandas as pd\n",
    "import tensorflow as tf"
   ]
  },
  {
   "cell_type": "markdown",
   "id": "75926a72",
   "metadata": {},
   "source": [
    "### Dataset loading"
   ]
  },
  {
   "cell_type": "code",
   "execution_count": 4,
   "id": "74b3c0e8",
   "metadata": {},
   "outputs": [
    {
     "data": {
      "text/html": [
       "<div>\n",
       "<style scoped>\n",
       "    .dataframe tbody tr th:only-of-type {\n",
       "        vertical-align: middle;\n",
       "    }\n",
       "\n",
       "    .dataframe tbody tr th {\n",
       "        vertical-align: top;\n",
       "    }\n",
       "\n",
       "    .dataframe thead th {\n",
       "        text-align: right;\n",
       "    }\n",
       "</style>\n",
       "<table border=\"1\" class=\"dataframe\">\n",
       "  <thead>\n",
       "    <tr style=\"text-align: right;\">\n",
       "      <th></th>\n",
       "      <th>RowNumber</th>\n",
       "      <th>CustomerId</th>\n",
       "      <th>Surname</th>\n",
       "      <th>CreditScore</th>\n",
       "      <th>Geography</th>\n",
       "      <th>Gender</th>\n",
       "      <th>Age</th>\n",
       "      <th>Tenure</th>\n",
       "      <th>Balance</th>\n",
       "      <th>NumOfProducts</th>\n",
       "      <th>HasCrCard</th>\n",
       "      <th>IsActiveMember</th>\n",
       "      <th>EstimatedSalary</th>\n",
       "      <th>Exited</th>\n",
       "    </tr>\n",
       "  </thead>\n",
       "  <tbody>\n",
       "    <tr>\n",
       "      <th>0</th>\n",
       "      <td>1</td>\n",
       "      <td>15634602</td>\n",
       "      <td>Hargrave</td>\n",
       "      <td>619</td>\n",
       "      <td>France</td>\n",
       "      <td>Female</td>\n",
       "      <td>42</td>\n",
       "      <td>2</td>\n",
       "      <td>0.00</td>\n",
       "      <td>1</td>\n",
       "      <td>1</td>\n",
       "      <td>1</td>\n",
       "      <td>101348.88</td>\n",
       "      <td>1</td>\n",
       "    </tr>\n",
       "    <tr>\n",
       "      <th>1</th>\n",
       "      <td>2</td>\n",
       "      <td>15647311</td>\n",
       "      <td>Hill</td>\n",
       "      <td>608</td>\n",
       "      <td>Spain</td>\n",
       "      <td>Female</td>\n",
       "      <td>41</td>\n",
       "      <td>1</td>\n",
       "      <td>83807.86</td>\n",
       "      <td>1</td>\n",
       "      <td>0</td>\n",
       "      <td>1</td>\n",
       "      <td>112542.58</td>\n",
       "      <td>0</td>\n",
       "    </tr>\n",
       "    <tr>\n",
       "      <th>2</th>\n",
       "      <td>3</td>\n",
       "      <td>15619304</td>\n",
       "      <td>Onio</td>\n",
       "      <td>502</td>\n",
       "      <td>France</td>\n",
       "      <td>Female</td>\n",
       "      <td>42</td>\n",
       "      <td>8</td>\n",
       "      <td>159660.80</td>\n",
       "      <td>3</td>\n",
       "      <td>1</td>\n",
       "      <td>0</td>\n",
       "      <td>113931.57</td>\n",
       "      <td>1</td>\n",
       "    </tr>\n",
       "    <tr>\n",
       "      <th>3</th>\n",
       "      <td>4</td>\n",
       "      <td>15701354</td>\n",
       "      <td>Boni</td>\n",
       "      <td>699</td>\n",
       "      <td>France</td>\n",
       "      <td>Female</td>\n",
       "      <td>39</td>\n",
       "      <td>1</td>\n",
       "      <td>0.00</td>\n",
       "      <td>2</td>\n",
       "      <td>0</td>\n",
       "      <td>0</td>\n",
       "      <td>93826.63</td>\n",
       "      <td>0</td>\n",
       "    </tr>\n",
       "    <tr>\n",
       "      <th>4</th>\n",
       "      <td>5</td>\n",
       "      <td>15737888</td>\n",
       "      <td>Mitchell</td>\n",
       "      <td>850</td>\n",
       "      <td>Spain</td>\n",
       "      <td>Female</td>\n",
       "      <td>43</td>\n",
       "      <td>2</td>\n",
       "      <td>125510.82</td>\n",
       "      <td>1</td>\n",
       "      <td>1</td>\n",
       "      <td>1</td>\n",
       "      <td>79084.10</td>\n",
       "      <td>0</td>\n",
       "    </tr>\n",
       "  </tbody>\n",
       "</table>\n",
       "</div>"
      ],
      "text/plain": [
       "   RowNumber  CustomerId   Surname  CreditScore Geography  Gender  Age  \\\n",
       "0          1    15634602  Hargrave          619    France  Female   42   \n",
       "1          2    15647311      Hill          608     Spain  Female   41   \n",
       "2          3    15619304      Onio          502    France  Female   42   \n",
       "3          4    15701354      Boni          699    France  Female   39   \n",
       "4          5    15737888  Mitchell          850     Spain  Female   43   \n",
       "\n",
       "   Tenure    Balance  NumOfProducts  HasCrCard  IsActiveMember  \\\n",
       "0       2       0.00              1          1               1   \n",
       "1       1   83807.86              1          0               1   \n",
       "2       8  159660.80              3          1               0   \n",
       "3       1       0.00              2          0               0   \n",
       "4       2  125510.82              1          1               1   \n",
       "\n",
       "   EstimatedSalary  Exited  \n",
       "0        101348.88       1  \n",
       "1        112542.58       0  \n",
       "2        113931.57       1  \n",
       "3         93826.63       0  \n",
       "4         79084.10       0  "
      ]
     },
     "execution_count": 4,
     "metadata": {},
     "output_type": "execute_result"
    }
   ],
   "source": [
    "data=pd.read_csv(\"Churn_Modelling.csv\")\n",
    "data.head()"
   ]
  },
  {
   "cell_type": "code",
   "execution_count": 5,
   "id": "b21799ef",
   "metadata": {},
   "outputs": [
    {
     "data": {
      "text/html": [
       "<div>\n",
       "<style scoped>\n",
       "    .dataframe tbody tr th:only-of-type {\n",
       "        vertical-align: middle;\n",
       "    }\n",
       "\n",
       "    .dataframe tbody tr th {\n",
       "        vertical-align: top;\n",
       "    }\n",
       "\n",
       "    .dataframe thead th {\n",
       "        text-align: right;\n",
       "    }\n",
       "</style>\n",
       "<table border=\"1\" class=\"dataframe\">\n",
       "  <thead>\n",
       "    <tr style=\"text-align: right;\">\n",
       "      <th></th>\n",
       "      <th>RowNumber</th>\n",
       "      <th>CustomerId</th>\n",
       "      <th>CreditScore</th>\n",
       "      <th>Age</th>\n",
       "      <th>Tenure</th>\n",
       "      <th>Balance</th>\n",
       "      <th>NumOfProducts</th>\n",
       "      <th>HasCrCard</th>\n",
       "      <th>IsActiveMember</th>\n",
       "      <th>EstimatedSalary</th>\n",
       "      <th>Exited</th>\n",
       "    </tr>\n",
       "  </thead>\n",
       "  <tbody>\n",
       "    <tr>\n",
       "      <th>count</th>\n",
       "      <td>10000.00000</td>\n",
       "      <td>1.000000e+04</td>\n",
       "      <td>10000.000000</td>\n",
       "      <td>10000.000000</td>\n",
       "      <td>10000.000000</td>\n",
       "      <td>10000.000000</td>\n",
       "      <td>10000.000000</td>\n",
       "      <td>10000.00000</td>\n",
       "      <td>10000.000000</td>\n",
       "      <td>10000.000000</td>\n",
       "      <td>10000.000000</td>\n",
       "    </tr>\n",
       "    <tr>\n",
       "      <th>mean</th>\n",
       "      <td>5000.50000</td>\n",
       "      <td>1.569094e+07</td>\n",
       "      <td>650.528800</td>\n",
       "      <td>38.921800</td>\n",
       "      <td>5.012800</td>\n",
       "      <td>76485.889288</td>\n",
       "      <td>1.530200</td>\n",
       "      <td>0.70550</td>\n",
       "      <td>0.515100</td>\n",
       "      <td>100090.239881</td>\n",
       "      <td>0.203700</td>\n",
       "    </tr>\n",
       "    <tr>\n",
       "      <th>std</th>\n",
       "      <td>2886.89568</td>\n",
       "      <td>7.193619e+04</td>\n",
       "      <td>96.653299</td>\n",
       "      <td>10.487806</td>\n",
       "      <td>2.892174</td>\n",
       "      <td>62397.405202</td>\n",
       "      <td>0.581654</td>\n",
       "      <td>0.45584</td>\n",
       "      <td>0.499797</td>\n",
       "      <td>57510.492818</td>\n",
       "      <td>0.402769</td>\n",
       "    </tr>\n",
       "    <tr>\n",
       "      <th>min</th>\n",
       "      <td>1.00000</td>\n",
       "      <td>1.556570e+07</td>\n",
       "      <td>350.000000</td>\n",
       "      <td>18.000000</td>\n",
       "      <td>0.000000</td>\n",
       "      <td>0.000000</td>\n",
       "      <td>1.000000</td>\n",
       "      <td>0.00000</td>\n",
       "      <td>0.000000</td>\n",
       "      <td>11.580000</td>\n",
       "      <td>0.000000</td>\n",
       "    </tr>\n",
       "    <tr>\n",
       "      <th>25%</th>\n",
       "      <td>2500.75000</td>\n",
       "      <td>1.562853e+07</td>\n",
       "      <td>584.000000</td>\n",
       "      <td>32.000000</td>\n",
       "      <td>3.000000</td>\n",
       "      <td>0.000000</td>\n",
       "      <td>1.000000</td>\n",
       "      <td>0.00000</td>\n",
       "      <td>0.000000</td>\n",
       "      <td>51002.110000</td>\n",
       "      <td>0.000000</td>\n",
       "    </tr>\n",
       "    <tr>\n",
       "      <th>50%</th>\n",
       "      <td>5000.50000</td>\n",
       "      <td>1.569074e+07</td>\n",
       "      <td>652.000000</td>\n",
       "      <td>37.000000</td>\n",
       "      <td>5.000000</td>\n",
       "      <td>97198.540000</td>\n",
       "      <td>1.000000</td>\n",
       "      <td>1.00000</td>\n",
       "      <td>1.000000</td>\n",
       "      <td>100193.915000</td>\n",
       "      <td>0.000000</td>\n",
       "    </tr>\n",
       "    <tr>\n",
       "      <th>75%</th>\n",
       "      <td>7500.25000</td>\n",
       "      <td>1.575323e+07</td>\n",
       "      <td>718.000000</td>\n",
       "      <td>44.000000</td>\n",
       "      <td>7.000000</td>\n",
       "      <td>127644.240000</td>\n",
       "      <td>2.000000</td>\n",
       "      <td>1.00000</td>\n",
       "      <td>1.000000</td>\n",
       "      <td>149388.247500</td>\n",
       "      <td>0.000000</td>\n",
       "    </tr>\n",
       "    <tr>\n",
       "      <th>max</th>\n",
       "      <td>10000.00000</td>\n",
       "      <td>1.581569e+07</td>\n",
       "      <td>850.000000</td>\n",
       "      <td>92.000000</td>\n",
       "      <td>10.000000</td>\n",
       "      <td>250898.090000</td>\n",
       "      <td>4.000000</td>\n",
       "      <td>1.00000</td>\n",
       "      <td>1.000000</td>\n",
       "      <td>199992.480000</td>\n",
       "      <td>1.000000</td>\n",
       "    </tr>\n",
       "  </tbody>\n",
       "</table>\n",
       "</div>"
      ],
      "text/plain": [
       "         RowNumber    CustomerId   CreditScore           Age        Tenure  \\\n",
       "count  10000.00000  1.000000e+04  10000.000000  10000.000000  10000.000000   \n",
       "mean    5000.50000  1.569094e+07    650.528800     38.921800      5.012800   \n",
       "std     2886.89568  7.193619e+04     96.653299     10.487806      2.892174   \n",
       "min        1.00000  1.556570e+07    350.000000     18.000000      0.000000   \n",
       "25%     2500.75000  1.562853e+07    584.000000     32.000000      3.000000   \n",
       "50%     5000.50000  1.569074e+07    652.000000     37.000000      5.000000   \n",
       "75%     7500.25000  1.575323e+07    718.000000     44.000000      7.000000   \n",
       "max    10000.00000  1.581569e+07    850.000000     92.000000     10.000000   \n",
       "\n",
       "             Balance  NumOfProducts    HasCrCard  IsActiveMember  \\\n",
       "count   10000.000000   10000.000000  10000.00000    10000.000000   \n",
       "mean    76485.889288       1.530200      0.70550        0.515100   \n",
       "std     62397.405202       0.581654      0.45584        0.499797   \n",
       "min         0.000000       1.000000      0.00000        0.000000   \n",
       "25%         0.000000       1.000000      0.00000        0.000000   \n",
       "50%     97198.540000       1.000000      1.00000        1.000000   \n",
       "75%    127644.240000       2.000000      1.00000        1.000000   \n",
       "max    250898.090000       4.000000      1.00000        1.000000   \n",
       "\n",
       "       EstimatedSalary        Exited  \n",
       "count     10000.000000  10000.000000  \n",
       "mean     100090.239881      0.203700  \n",
       "std       57510.492818      0.402769  \n",
       "min          11.580000      0.000000  \n",
       "25%       51002.110000      0.000000  \n",
       "50%      100193.915000      0.000000  \n",
       "75%      149388.247500      0.000000  \n",
       "max      199992.480000      1.000000  "
      ]
     },
     "execution_count": 5,
     "metadata": {},
     "output_type": "execute_result"
    }
   ],
   "source": [
    "data.describe()"
   ]
  },
  {
   "cell_type": "markdown",
   "id": "240e2ca3",
   "metadata": {},
   "source": [
    "### Declaring dependent and independent variables"
   ]
  },
  {
   "cell_type": "code",
   "execution_count": 6,
   "id": "d25dd4cd",
   "metadata": {},
   "outputs": [],
   "source": [
    "x=data.iloc[:, 3:-1].values\n",
    "y=data.iloc[:, -1].values"
   ]
  },
  {
   "cell_type": "code",
   "execution_count": 7,
   "id": "48dd5e36",
   "metadata": {},
   "outputs": [
    {
     "data": {
      "text/plain": [
       "array([[619, 'France', 'Female', ..., 1, 1, 101348.88],\n",
       "       [608, 'Spain', 'Female', ..., 0, 1, 112542.58],\n",
       "       [502, 'France', 'Female', ..., 1, 0, 113931.57],\n",
       "       ...,\n",
       "       [709, 'France', 'Female', ..., 0, 1, 42085.58],\n",
       "       [772, 'Germany', 'Male', ..., 1, 0, 92888.52],\n",
       "       [792, 'France', 'Female', ..., 1, 0, 38190.78]], dtype=object)"
      ]
     },
     "execution_count": 7,
     "metadata": {},
     "output_type": "execute_result"
    }
   ],
   "source": [
    "x"
   ]
  },
  {
   "cell_type": "code",
   "execution_count": 8,
   "id": "3278e613",
   "metadata": {},
   "outputs": [
    {
     "data": {
      "text/plain": [
       "array([1, 0, 1, ..., 1, 1, 0], dtype=int64)"
      ]
     },
     "execution_count": 8,
     "metadata": {},
     "output_type": "execute_result"
    }
   ],
   "source": [
    "y"
   ]
  },
  {
   "cell_type": "markdown",
   "id": "b645ddd8",
   "metadata": {},
   "source": [
    "### Encoding the required fields/attributes of dependent dataset"
   ]
  },
  {
   "cell_type": "code",
   "execution_count": 9,
   "id": "fb5f1b02",
   "metadata": {},
   "outputs": [
    {
     "data": {
      "text/plain": [
       "array([[619, 'France', 0, ..., 1, 1, 101348.88],\n",
       "       [608, 'Spain', 0, ..., 0, 1, 112542.58],\n",
       "       [502, 'France', 0, ..., 1, 0, 113931.57],\n",
       "       ...,\n",
       "       [709, 'France', 0, ..., 0, 1, 42085.58],\n",
       "       [772, 'Germany', 1, ..., 1, 0, 92888.52],\n",
       "       [792, 'France', 0, ..., 1, 0, 38190.78]], dtype=object)"
      ]
     },
     "execution_count": 9,
     "metadata": {},
     "output_type": "execute_result"
    }
   ],
   "source": [
    "from sklearn.preprocessing import LabelEncoder\n",
    "le=LabelEncoder()\n",
    "x[:,2]=le.fit_transform(x[:, 2])\n",
    "x"
   ]
  },
  {
   "cell_type": "code",
   "execution_count": 10,
   "id": "a0427810",
   "metadata": {},
   "outputs": [],
   "source": [
    "from sklearn.compose import ColumnTransformer\n",
    "from sklearn.preprocessing import OneHotEncoder\n",
    "ct=ColumnTransformer(transformers=[('encoder', OneHotEncoder(), [1])], remainder='passthrough')\n",
    "x = np.array(ct.fit_transform(x))"
   ]
  },
  {
   "cell_type": "markdown",
   "id": "622eb634",
   "metadata": {},
   "source": [
    "### Splitting dataset into training and testing sets"
   ]
  },
  {
   "cell_type": "code",
   "execution_count": 11,
   "id": "305726b2",
   "metadata": {},
   "outputs": [],
   "source": [
    "from sklearn.model_selection import train_test_split\n",
    "X_train, X_test, y_train, y_test = train_test_split(x, y, test_size = 0.2, random_state = 42)"
   ]
  },
  {
   "cell_type": "markdown",
   "id": "57fc236b",
   "metadata": {},
   "source": [
    "### Feature Scaling the dataset"
   ]
  },
  {
   "cell_type": "code",
   "execution_count": 12,
   "id": "40efd3f7",
   "metadata": {},
   "outputs": [],
   "source": [
    "from sklearn.preprocessing import StandardScaler\n",
    "sc = StandardScaler()\n",
    "X_train = sc.fit_transform(X_train)\n",
    "X_test = sc.transform(X_test)"
   ]
  },
  {
   "cell_type": "markdown",
   "id": "f4669606",
   "metadata": {},
   "source": [
    "### Building the ANN"
   ]
  },
  {
   "cell_type": "markdown",
   "id": "84bb6db3",
   "metadata": {},
   "source": [
    "### Initialising the ANN"
   ]
  },
  {
   "cell_type": "code",
   "execution_count": 13,
   "id": "3e20153c",
   "metadata": {},
   "outputs": [],
   "source": [
    "ann = tf.keras.models.Sequential()"
   ]
  },
  {
   "cell_type": "markdown",
   "id": "68cacd83",
   "metadata": {},
   "source": [
    "### Adding input layer"
   ]
  },
  {
   "cell_type": "code",
   "execution_count": 14,
   "id": "20744d53",
   "metadata": {},
   "outputs": [],
   "source": [
    "ann.add(tf.keras.layers.Dense(units=6, activation='relu'))"
   ]
  },
  {
   "cell_type": "markdown",
   "id": "c993c56f",
   "metadata": {},
   "source": [
    "### Adding hidden layer 1"
   ]
  },
  {
   "cell_type": "code",
   "execution_count": 15,
   "id": "6d5cb36a",
   "metadata": {},
   "outputs": [],
   "source": [
    "ann.add(tf.keras.layers.Dense(units=6, activation='relu'))"
   ]
  },
  {
   "cell_type": "markdown",
   "id": "bbeaca4d",
   "metadata": {},
   "source": [
    "### Adding output layer\n",
    "#### (Here node count is 1 for the output of binary classification)"
   ]
  },
  {
   "cell_type": "code",
   "execution_count": 16,
   "id": "11620a01",
   "metadata": {},
   "outputs": [],
   "source": [
    "ann.add(tf.keras.layers.Dense(units=1, activation='sigmoid'))"
   ]
  },
  {
   "cell_type": "markdown",
   "id": "ecb0bdf4",
   "metadata": {},
   "source": [
    "### Training the ANN"
   ]
  },
  {
   "cell_type": "markdown",
   "id": "1ba1e8f5",
   "metadata": {},
   "source": [
    "### Compiling the ANN"
   ]
  },
  {
   "cell_type": "code",
   "execution_count": 17,
   "id": "5bd0286b",
   "metadata": {},
   "outputs": [],
   "source": [
    "ann.compile(optimizer = 'adam', loss = 'binary_crossentropy', metrics = ['accuracy'])"
   ]
  },
  {
   "cell_type": "markdown",
   "id": "64538eda",
   "metadata": {},
   "source": [
    "### Training the ANN"
   ]
  },
  {
   "cell_type": "code",
   "execution_count": 18,
   "id": "efa40198",
   "metadata": {},
   "outputs": [
    {
     "name": "stdout",
     "output_type": "stream",
     "text": [
      "Epoch 1/100\n",
      "80/80 [==============================] - 1s 4ms/step - loss: 0.7095 - accuracy: 0.6140\n",
      "Epoch 2/100\n",
      "80/80 [==============================] - 0s 4ms/step - loss: 0.5493 - accuracy: 0.7448\n",
      "Epoch 3/100\n",
      "80/80 [==============================] - 0s 3ms/step - loss: 0.4925 - accuracy: 0.7835\n",
      "Epoch 4/100\n",
      "80/80 [==============================] - 0s 3ms/step - loss: 0.4671 - accuracy: 0.7961\n",
      "Epoch 5/100\n",
      "80/80 [==============================] - 0s 3ms/step - loss: 0.4545 - accuracy: 0.7991\n",
      "Epoch 6/100\n",
      "80/80 [==============================] - 0s 3ms/step - loss: 0.4463 - accuracy: 0.8044\n",
      "Epoch 7/100\n",
      "80/80 [==============================] - 0s 3ms/step - loss: 0.4399 - accuracy: 0.8066\n",
      "Epoch 8/100\n",
      "80/80 [==============================] - 0s 3ms/step - loss: 0.4345 - accuracy: 0.8124\n",
      "Epoch 9/100\n",
      "80/80 [==============================] - 0s 3ms/step - loss: 0.4299 - accuracy: 0.8176\n",
      "Epoch 10/100\n",
      "80/80 [==============================] - 0s 3ms/step - loss: 0.4254 - accuracy: 0.8181\n",
      "Epoch 11/100\n",
      "80/80 [==============================] - 0s 3ms/step - loss: 0.4214 - accuracy: 0.8206\n",
      "Epoch 12/100\n",
      "80/80 [==============================] - 0s 3ms/step - loss: 0.4182 - accuracy: 0.8239\n",
      "Epoch 13/100\n",
      "80/80 [==============================] - 0s 3ms/step - loss: 0.4156 - accuracy: 0.8249\n",
      "Epoch 14/100\n",
      "80/80 [==============================] - 0s 3ms/step - loss: 0.4135 - accuracy: 0.8261\n",
      "Epoch 15/100\n",
      "80/80 [==============================] - 0s 3ms/step - loss: 0.4119 - accuracy: 0.8271\n",
      "Epoch 16/100\n",
      "80/80 [==============================] - 0s 3ms/step - loss: 0.4100 - accuracy: 0.8278\n",
      "Epoch 17/100\n",
      "80/80 [==============================] - 0s 3ms/step - loss: 0.4088 - accuracy: 0.8289\n",
      "Epoch 18/100\n",
      "80/80 [==============================] - 0s 3ms/step - loss: 0.4075 - accuracy: 0.8299\n",
      "Epoch 19/100\n",
      "80/80 [==============================] - 0s 3ms/step - loss: 0.4064 - accuracy: 0.8311\n",
      "Epoch 20/100\n",
      "80/80 [==============================] - 0s 3ms/step - loss: 0.4052 - accuracy: 0.8301\n",
      "Epoch 21/100\n",
      "80/80 [==============================] - 0s 3ms/step - loss: 0.4044 - accuracy: 0.8309\n",
      "Epoch 22/100\n",
      "80/80 [==============================] - 0s 3ms/step - loss: 0.4037 - accuracy: 0.8294\n",
      "Epoch 23/100\n",
      "80/80 [==============================] - 0s 3ms/step - loss: 0.4028 - accuracy: 0.8320\n",
      "Epoch 24/100\n",
      "80/80 [==============================] - 0s 3ms/step - loss: 0.4020 - accuracy: 0.8307\n",
      "Epoch 25/100\n",
      "80/80 [==============================] - 0s 3ms/step - loss: 0.4009 - accuracy: 0.8314\n",
      "Epoch 26/100\n",
      "80/80 [==============================] - 0s 3ms/step - loss: 0.3998 - accuracy: 0.8320\n",
      "Epoch 27/100\n",
      "80/80 [==============================] - 0s 3ms/step - loss: 0.3989 - accuracy: 0.8328\n",
      "Epoch 28/100\n",
      "80/80 [==============================] - 0s 3ms/step - loss: 0.3976 - accuracy: 0.8330\n",
      "Epoch 29/100\n",
      "80/80 [==============================] - 0s 3ms/step - loss: 0.3966 - accuracy: 0.8350\n",
      "Epoch 30/100\n",
      "80/80 [==============================] - 0s 3ms/step - loss: 0.3950 - accuracy: 0.8347\n",
      "Epoch 31/100\n",
      "80/80 [==============================] - 0s 3ms/step - loss: 0.3934 - accuracy: 0.8365\n",
      "Epoch 32/100\n",
      "80/80 [==============================] - 0s 3ms/step - loss: 0.3915 - accuracy: 0.8365\n",
      "Epoch 33/100\n",
      "80/80 [==============================] - 0s 3ms/step - loss: 0.3897 - accuracy: 0.8364\n",
      "Epoch 34/100\n",
      "80/80 [==============================] - 0s 3ms/step - loss: 0.3877 - accuracy: 0.8371\n",
      "Epoch 35/100\n",
      "80/80 [==============================] - 0s 3ms/step - loss: 0.3853 - accuracy: 0.8369\n",
      "Epoch 36/100\n",
      "80/80 [==============================] - 0s 3ms/step - loss: 0.3830 - accuracy: 0.8371\n",
      "Epoch 37/100\n",
      "80/80 [==============================] - 0s 3ms/step - loss: 0.3805 - accuracy: 0.8379\n",
      "Epoch 38/100\n",
      "80/80 [==============================] - 0s 3ms/step - loss: 0.3781 - accuracy: 0.8385\n",
      "Epoch 39/100\n",
      "80/80 [==============================] - 0s 3ms/step - loss: 0.3758 - accuracy: 0.8389\n",
      "Epoch 40/100\n",
      "80/80 [==============================] - 0s 3ms/step - loss: 0.3735 - accuracy: 0.8396\n",
      "Epoch 41/100\n",
      "80/80 [==============================] - 0s 3ms/step - loss: 0.3712 - accuracy: 0.8405\n",
      "Epoch 42/100\n",
      "80/80 [==============================] - 0s 3ms/step - loss: 0.3692 - accuracy: 0.8468\n",
      "Epoch 43/100\n",
      "80/80 [==============================] - 0s 3ms/step - loss: 0.3672 - accuracy: 0.8471\n",
      "Epoch 44/100\n",
      "80/80 [==============================] - 0s 3ms/step - loss: 0.3652 - accuracy: 0.8500\n",
      "Epoch 45/100\n",
      "80/80 [==============================] - 0s 3ms/step - loss: 0.3643 - accuracy: 0.8516\n",
      "Epoch 46/100\n",
      "80/80 [==============================] - 0s 3ms/step - loss: 0.3619 - accuracy: 0.8504\n",
      "Epoch 47/100\n",
      "80/80 [==============================] - 0s 3ms/step - loss: 0.3612 - accuracy: 0.8511\n",
      "Epoch 48/100\n",
      "80/80 [==============================] - 0s 3ms/step - loss: 0.3591 - accuracy: 0.8531\n",
      "Epoch 49/100\n",
      "80/80 [==============================] - 0s 4ms/step - loss: 0.3578 - accuracy: 0.8534\n",
      "Epoch 50/100\n",
      "80/80 [==============================] - 0s 3ms/step - loss: 0.3566 - accuracy: 0.8522\n",
      "Epoch 51/100\n",
      "80/80 [==============================] - 0s 3ms/step - loss: 0.3556 - accuracy: 0.8545\n",
      "Epoch 52/100\n",
      "80/80 [==============================] - 0s 3ms/step - loss: 0.3547 - accuracy: 0.8540\n",
      "Epoch 53/100\n",
      "80/80 [==============================] - 0s 3ms/step - loss: 0.3538 - accuracy: 0.8536\n",
      "Epoch 54/100\n",
      "80/80 [==============================] - 0s 3ms/step - loss: 0.3528 - accuracy: 0.8561\n",
      "Epoch 55/100\n",
      "80/80 [==============================] - 0s 3ms/step - loss: 0.3516 - accuracy: 0.8553\n",
      "Epoch 56/100\n",
      "80/80 [==============================] - 0s 3ms/step - loss: 0.3511 - accuracy: 0.8595\n",
      "Epoch 57/100\n",
      "80/80 [==============================] - 0s 3ms/step - loss: 0.3501 - accuracy: 0.8559\n",
      "Epoch 58/100\n",
      "80/80 [==============================] - 0s 3ms/step - loss: 0.3492 - accuracy: 0.8574\n",
      "Epoch 59/100\n",
      "80/80 [==============================] - 0s 3ms/step - loss: 0.3487 - accuracy: 0.8569\n",
      "Epoch 60/100\n",
      "80/80 [==============================] - 0s 3ms/step - loss: 0.3480 - accuracy: 0.8568\n",
      "Epoch 61/100\n",
      "80/80 [==============================] - 0s 3ms/step - loss: 0.3475 - accuracy: 0.8572\n",
      "Epoch 62/100\n",
      "80/80 [==============================] - 0s 4ms/step - loss: 0.3462 - accuracy: 0.8577\n",
      "Epoch 63/100\n",
      "80/80 [==============================] - 0s 3ms/step - loss: 0.3458 - accuracy: 0.8574\n",
      "Epoch 64/100\n",
      "80/80 [==============================] - 0s 3ms/step - loss: 0.3451 - accuracy: 0.8585\n",
      "Epoch 65/100\n",
      "80/80 [==============================] - 0s 3ms/step - loss: 0.3445 - accuracy: 0.8584\n",
      "Epoch 66/100\n",
      "80/80 [==============================] - 0s 3ms/step - loss: 0.3436 - accuracy: 0.8605\n",
      "Epoch 67/100\n",
      "80/80 [==============================] - 0s 3ms/step - loss: 0.3433 - accuracy: 0.8580\n",
      "Epoch 68/100\n",
      "80/80 [==============================] - 0s 3ms/step - loss: 0.3430 - accuracy: 0.8586\n",
      "Epoch 69/100\n",
      "80/80 [==============================] - 0s 3ms/step - loss: 0.3423 - accuracy: 0.8599\n",
      "Epoch 70/100\n",
      "80/80 [==============================] - 0s 3ms/step - loss: 0.3425 - accuracy: 0.8601\n",
      "Epoch 71/100\n",
      "80/80 [==============================] - 0s 3ms/step - loss: 0.3414 - accuracy: 0.8614\n",
      "Epoch 72/100\n",
      "80/80 [==============================] - 0s 3ms/step - loss: 0.3410 - accuracy: 0.8608\n",
      "Epoch 73/100\n",
      "80/80 [==============================] - 0s 3ms/step - loss: 0.3409 - accuracy: 0.8618\n",
      "Epoch 74/100\n",
      "80/80 [==============================] - 0s 3ms/step - loss: 0.3411 - accuracy: 0.8602\n",
      "Epoch 75/100\n",
      "80/80 [==============================] - 0s 3ms/step - loss: 0.3402 - accuracy: 0.8590\n",
      "Epoch 76/100\n",
      "80/80 [==============================] - 0s 3ms/step - loss: 0.3401 - accuracy: 0.8612\n",
      "Epoch 77/100\n",
      "80/80 [==============================] - 0s 3ms/step - loss: 0.3395 - accuracy: 0.8597\n",
      "Epoch 78/100\n",
      "80/80 [==============================] - 0s 3ms/step - loss: 0.3391 - accuracy: 0.8597\n",
      "Epoch 79/100\n",
      "80/80 [==============================] - 0s 3ms/step - loss: 0.3391 - accuracy: 0.8587\n",
      "Epoch 80/100\n",
      "80/80 [==============================] - 0s 3ms/step - loss: 0.3388 - accuracy: 0.8597\n",
      "Epoch 81/100\n",
      "80/80 [==============================] - 0s 3ms/step - loss: 0.3381 - accuracy: 0.8605\n",
      "Epoch 82/100\n",
      "80/80 [==============================] - 0s 3ms/step - loss: 0.3384 - accuracy: 0.8604\n",
      "Epoch 83/100\n"
     ]
    },
    {
     "name": "stdout",
     "output_type": "stream",
     "text": [
      "80/80 [==============================] - 0s 3ms/step - loss: 0.3379 - accuracy: 0.8605\n",
      "Epoch 84/100\n",
      "80/80 [==============================] - 0s 3ms/step - loss: 0.3373 - accuracy: 0.8606\n",
      "Epoch 85/100\n",
      "80/80 [==============================] - 0s 3ms/step - loss: 0.3372 - accuracy: 0.8621\n",
      "Epoch 86/100\n",
      "80/80 [==============================] - 0s 3ms/step - loss: 0.3370 - accuracy: 0.8618\n",
      "Epoch 87/100\n",
      "80/80 [==============================] - 0s 3ms/step - loss: 0.3374 - accuracy: 0.8591\n",
      "Epoch 88/100\n",
      "80/80 [==============================] - 0s 3ms/step - loss: 0.3368 - accuracy: 0.8608\n",
      "Epoch 89/100\n",
      "80/80 [==============================] - 0s 4ms/step - loss: 0.3366 - accuracy: 0.8606\n",
      "Epoch 90/100\n",
      "80/80 [==============================] - 0s 3ms/step - loss: 0.3359 - accuracy: 0.8620\n",
      "Epoch 91/100\n",
      "80/80 [==============================] - 0s 3ms/step - loss: 0.3364 - accuracy: 0.8625\n",
      "Epoch 92/100\n",
      "80/80 [==============================] - 0s 3ms/step - loss: 0.3356 - accuracy: 0.8618\n",
      "Epoch 93/100\n",
      "80/80 [==============================] - 0s 3ms/step - loss: 0.3359 - accuracy: 0.8606\n",
      "Epoch 94/100\n",
      "80/80 [==============================] - 0s 3ms/step - loss: 0.3352 - accuracy: 0.8619\n",
      "Epoch 95/100\n",
      "80/80 [==============================] - 0s 3ms/step - loss: 0.3351 - accuracy: 0.8614\n",
      "Epoch 96/100\n",
      "80/80 [==============================] - 0s 3ms/step - loss: 0.3351 - accuracy: 0.8609\n",
      "Epoch 97/100\n",
      "80/80 [==============================] - 0s 4ms/step - loss: 0.3346 - accuracy: 0.8619\n",
      "Epoch 98/100\n",
      "80/80 [==============================] - 0s 3ms/step - loss: 0.3344 - accuracy: 0.8606\n",
      "Epoch 99/100\n",
      "80/80 [==============================] - 0s 3ms/step - loss: 0.3346 - accuracy: 0.8622\n",
      "Epoch 100/100\n",
      "80/80 [==============================] - 0s 3ms/step - loss: 0.3342 - accuracy: 0.8618\n"
     ]
    },
    {
     "data": {
      "text/plain": [
       "<keras.callbacks.History at 0x25f7126cc70>"
      ]
     },
     "execution_count": 18,
     "metadata": {},
     "output_type": "execute_result"
    }
   ],
   "source": [
    "ann.fit(X_train, y_train, batch_size = 100, epochs = 100)"
   ]
  },
  {
   "cell_type": "markdown",
   "id": "e2320096",
   "metadata": {},
   "source": [
    "### Making the prediction and evaluating the model"
   ]
  },
  {
   "cell_type": "code",
   "execution_count": 19,
   "id": "511efb9c",
   "metadata": {},
   "outputs": [
    {
     "name": "stdout",
     "output_type": "stream",
     "text": [
      "63/63 [==============================] - 0s 3ms/step\n",
      "[[0 0]\n",
      " [0 0]\n",
      " [0 0]\n",
      " ...\n",
      " [1 1]\n",
      " [0 1]\n",
      " [0 1]]\n"
     ]
    }
   ],
   "source": [
    "y_pred = ann.predict(X_test)\n",
    "y_pred = (y_pred > 0.5)\n",
    "print(np.concatenate((y_pred.reshape(len(y_pred),1), y_test.reshape(len(y_test),1)),1))"
   ]
  },
  {
   "cell_type": "code",
   "execution_count": 20,
   "id": "bd62069d",
   "metadata": {},
   "outputs": [
    {
     "name": "stdout",
     "output_type": "stream",
     "text": [
      "[[1529   78]\n",
      " [ 197  196]]\n"
     ]
    },
    {
     "data": {
      "text/plain": [
       "0.8625"
      ]
     },
     "execution_count": 20,
     "metadata": {},
     "output_type": "execute_result"
    }
   ],
   "source": [
    "from sklearn.metrics import confusion_matrix, accuracy_score\n",
    "cm = confusion_matrix(y_test, y_pred)\n",
    "print(cm)\n",
    "accuracy_score(y_test, y_pred)"
   ]
  },
  {
   "cell_type": "markdown",
   "id": "f5cbf124",
   "metadata": {},
   "source": [
    "### - Work done by Manish Kumar(20SCSE1010830)"
   ]
  },
  {
   "cell_type": "code",
   "execution_count": null,
   "id": "1a1d603d",
   "metadata": {},
   "outputs": [],
   "source": []
  }
 ],
 "metadata": {
  "kernelspec": {
   "display_name": "Python 3 (ipykernel)",
   "language": "python",
   "name": "python3"
  },
  "language_info": {
   "codemirror_mode": {
    "name": "ipython",
    "version": 3
   },
   "file_extension": ".py",
   "mimetype": "text/x-python",
   "name": "python",
   "nbconvert_exporter": "python",
   "pygments_lexer": "ipython3",
   "version": "3.9.13"
  }
 },
 "nbformat": 4,
 "nbformat_minor": 5
}
